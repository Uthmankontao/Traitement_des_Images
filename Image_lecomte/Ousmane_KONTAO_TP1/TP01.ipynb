{
 "cells": [
  {
   "cell_type": "code",
   "execution_count": 32,
   "metadata": {},
   "outputs": [],
   "source": [
    "import os\n",
    "import exifread\n",
    "import pandas as pd\n",
    "\n",
    "def convertir_valeur_exif(valeur):\n",
    "    try:\n",
    "        num, denom = str(valeur).split('/')\n",
    "        return float(num) / float(denom)\n",
    "    except ValueError:\n",
    "        return None"
   ]
  },
  {
   "cell_type": "code",
   "execution_count": 28,
   "metadata": {},
   "outputs": [],
   "source": [
    "def calculer_pdc(f, r, k, g):\n",
    "    if f is None or k is None or g is None:\n",
    "        return None\n",
    "    f = f / 1000  \n",
    "    g = g / 1000  \n",
    "    r = r / 1000  \n",
    "    try:\n",
    "        pdc = (4 * f**2 * r * k * g * (g - f)) / (f**4 - 4 * r**2 * k**2 * (g - f)**2)\n",
    "        return pdc\n",
    "    except ZeroDivisionError as e:\n",
    "        return None"
   ]
  },
  {
   "cell_type": "code",
   "execution_count": 31,
   "metadata": {},
   "outputs": [
    {
     "name": "stdout",
     "output_type": "stream",
     "text": [
      "            Nom  Ouverture  D_Focale  PDC_calculé  Pdc_observé  Difference_PDC\n",
      "0  PICT3149.JPG        3.2  7.203125    -0.587952       0.0055       -0.593452\n",
      "1  PICT3150.JPG        2.8  7.203125    -0.688818       0.0070       -0.695818\n",
      "2  PICT3151.JPG        NaN  7.203125          NaN       0.0130             NaN\n",
      "3  PICT3152.JPG        NaN  7.203125          NaN       0.0075             NaN\n",
      "4  PICT3153.JPG        5.6  7.203125    -0.318793       0.0090       -0.327793\n",
      "5  PICT3154.JPG        2.8  7.203125    -0.688818       0.0090       -0.697818\n"
     ]
    }
   ],
   "source": [
    "chemin_dossier = \"TP1_Donnee/TP1_Donnee/PdC\"\n",
    "donnees_photos = []\n",
    "\n",
    "pdc_observé_liste = [0.0055, 0.007, 0.013, 0.0075, 0.009, 0.009]\n",
    "\n",
    "for index, fichier in enumerate(os.listdir(chemin_dossier)):\n",
    "    if fichier.lower().endswith((\".jpg\", \".jpeg\")) and index < len(pdc_observé_liste):\n",
    "        chemin_photo = os.path.join(chemin_dossier, fichier)\n",
    "        with open(chemin_photo, 'rb') as f:\n",
    "            tags = exifread.process_file(f)\n",
    "            r = 0.030\n",
    "            g = 1000\n",
    "            ouverture = tags.get('EXIF FNumber')\n",
    "            distance_focale = tags.get('EXIF FocalLength')\n",
    "            if distance_focale and ouverture:\n",
    "                distance_focale = convertir_valeur_exif(distance_focale)\n",
    "                ouverture = convertir_valeur_exif(ouverture)\n",
    "                pdc_calculé = calculer_pdc(distance_focale, r, ouverture, g)\n",
    "            else:\n",
    "                pdc_calculé = None\n",
    "\n",
    "            donnees_photos.append({\n",
    "                \"Nom\": fichier,\n",
    "                \"Ouverture\": ouverture,\n",
    "                \"D_Focale\": distance_focale,\n",
    "                \"PDC_calculé\": pdc_calculé,\n",
    "                \"Pdc_observé\": pdc_observé_liste[index],\n",
    "            })\n",
    "\n",
    "df = pd.DataFrame(donnees_photos)\n",
    "\n",
    "df['Difference_PDC'] = df['PDC_calculé'] - df['Pdc_observé']\n",
    "\n",
    "print(df)\n"
   ]
  }
 ],
 "metadata": {
  "kernelspec": {
   "display_name": "Python 3",
   "language": "python",
   "name": "python3"
  },
  "language_info": {
   "codemirror_mode": {
    "name": "ipython",
    "version": 3
   },
   "file_extension": ".py",
   "mimetype": "text/x-python",
   "name": "python",
   "nbconvert_exporter": "python",
   "pygments_lexer": "ipython3",
   "version": "3.11.4"
  }
 },
 "nbformat": 4,
 "nbformat_minor": 2
}
